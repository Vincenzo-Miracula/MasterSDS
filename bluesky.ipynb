{
  "cells": [
    {
      "cell_type": "markdown",
      "metadata": {
        "id": "view-in-github",
        "colab_type": "text"
      },
      "source": [
        "<a href=\"https://colab.research.google.com/github/Vincenzo-Miracula/MasterSDS/blob/main/bluesky.ipynb\" target=\"_parent\"><img src=\"https://colab.research.google.com/assets/colab-badge.svg\" alt=\"Open In Colab\"/></a>"
      ]
    },
    {
      "cell_type": "code",
      "source": [],
      "metadata": {
        "id": "_16Vi86k1xhI"
      },
      "execution_count": null,
      "outputs": []
    },
    {
      "cell_type": "code",
      "source": [
        "!pip install atproto"
      ],
      "metadata": {
        "id": "6mQYMpylpsQg"
      },
      "execution_count": null,
      "outputs": []
    },
    {
      "cell_type": "code",
      "execution_count": 46,
      "metadata": {
        "id": "eO-fKS_A0EdV"
      },
      "outputs": [],
      "source": [
        "from atproto import Client\n",
        "import requests\n",
        "import json\n",
        "from tqdm import tqdm\n",
        "import time\n",
        "import pandas as pd\n",
        "import configparser\n",
        "from datetime import datetime"
      ]
    },
    {
      "cell_type": "code",
      "source": [
        "config = configparser.ConfigParser()\n",
        "config.read('config.ini')"
      ],
      "metadata": {
        "colab": {
          "base_uri": "https://localhost:8080/"
        },
        "id": "ws_FS2U7pj2W",
        "outputId": "49ea2785-50b2-4288-c9b3-a1dfedb660ec"
      },
      "execution_count": 4,
      "outputs": [
        {
          "output_type": "execute_result",
          "data": {
            "text/plain": [
              "['config.ini']"
            ]
          },
          "metadata": {},
          "execution_count": 4
        }
      ]
    },
    {
      "cell_type": "code",
      "execution_count": null,
      "metadata": {
        "id": "7sJo8pn7xy0x"
      },
      "outputs": [],
      "source": [
        "client = Client()\n",
        "# By default, it uses the server of bsky.app. To change this behavior, pass the base api URL to constructor\n",
        "client_id = config['bluesky']['client_id']\n",
        "password_app = config['bluesky']['password_app']\n",
        "\n",
        "client.login(client_id, password_app)"
      ]
    },
    {
      "cell_type": "code",
      "execution_count": 6,
      "metadata": {
        "id": "XBTm2UEhmKQx"
      },
      "outputs": [],
      "source": [
        "token = ''"
      ]
    },
    {
      "cell_type": "code",
      "execution_count": null,
      "metadata": {
        "id": "qTmmV_6j7rDT"
      },
      "outputs": [],
      "source": [
        "# URL dell'API\n",
        "url = \"https://milkcap.us-west.host.bsky.network/xrpc/app.bsky.feed.searchPosts\"\n",
        "headers = {\"Authorization\": f\"Bearer {token}\"}\n",
        "\n",
        "# Parametri della richiesta\n",
        "params = {\n",
        "    \"q\": \"\",  # Query di ricerca\n",
        "    \"limit\": 100,    # Limite massimo per ogni richiesta\n",
        "    \"sort\": \"latest\", # Ordinamento dei risultati - top o latest\n",
        "    \"tag\": '#',  # Filtro per il tag\n",
        "}\n",
        "\n",
        "def estrai_post(url, params, max_posts=400):\n",
        "    all_posts = []\n",
        "    cursor = None\n",
        "\n",
        "    with tqdm(total=max_posts, desc=\"Estrazione post\") as pbar:\n",
        "        while len(all_posts) < max_posts:\n",
        "            if cursor:\n",
        "                params[\"cursor\"] = cursor  # Usa il cursore per la paginazione\n",
        "            response = requests.get(url, headers=headers, params=params)\n",
        "\n",
        "            if response.status_code == 200:\n",
        "                data = response.json()\n",
        "                all_posts.extend(data[\"posts\"])\n",
        "                pbar.update(len(data[\"posts\"]))  # Aggiorna la barra di avanzamento\n",
        "\n",
        "                cursor = data.get(\"cursor\", None)\n",
        "                if cursor is None:\n",
        "                    break\n",
        "            else:\n",
        "                print(f\"Errore nella richiesta: {response.status_code}\")\n",
        "                break\n",
        "\n",
        "            time.sleep(1)  # Pausa prima della prossima richiesta\n",
        "\n",
        "    return all_posts\n",
        "\n",
        "data = estrai_post(url, params)\n",
        "print(f\"Numero di post estratti: {len(data)}\")"
      ]
    },
    {
      "cell_type": "code",
      "source": [
        "data[0]"
      ],
      "metadata": {
        "id": "Kv0SBP6StUic"
      },
      "execution_count": null,
      "outputs": []
    },
    {
      "cell_type": "code",
      "source": [
        "for post in data:\n",
        "  print(post['record']['createdAt'])"
      ],
      "metadata": {
        "id": "VkFhqvRtx0A1"
      },
      "execution_count": null,
      "outputs": []
    },
    {
      "cell_type": "code",
      "execution_count": 38,
      "metadata": {
        "id": "28MpMm6gcmTZ"
      },
      "outputs": [],
      "source": [
        "def estrai_displaynames_e_testi(data):\n",
        "    risultati = []\n",
        "    for post in data:\n",
        "\n",
        "      handle = post['author']['handle']\n",
        "      displayname = post['author'].get('displayName', 'empty')\n",
        "      text = post['record']['text']\n",
        "      date = post['record']['createdAt']\n",
        "      risultati.append((handle, displayname, text, date))\n",
        "    return risultati"
      ]
    },
    {
      "cell_type": "code",
      "execution_count": null,
      "metadata": {
        "id": "CtlOIEIWohEm"
      },
      "outputs": [],
      "source": [
        "for item in data:\n",
        "    print(item.keys())[0]"
      ]
    },
    {
      "cell_type": "code",
      "execution_count": 42,
      "metadata": {
        "id": "cBK-FvGmd2rb"
      },
      "outputs": [],
      "source": [
        "content = estrai_displaynames_e_testi(data)"
      ]
    },
    {
      "cell_type": "code",
      "execution_count": null,
      "metadata": {
        "colab": {
          "base_uri": "https://localhost:8080/"
        },
        "id": "omaWkpm-bK-u",
        "outputId": "2b229d9b-c5d6-417e-ab65-b20f84adb12f"
      },
      "outputs": [
        {
          "data": {
            "text/plain": [
              "400"
            ]
          },
          "execution_count": 250,
          "metadata": {},
          "output_type": "execute_result"
        }
      ],
      "source": [
        "len(pd.DataFrame(content))"
      ]
    },
    {
      "cell_type": "code",
      "execution_count": 58,
      "metadata": {
        "id": "9_vuF3zUkCwH"
      },
      "outputs": [],
      "source": [
        "df = pd.DataFrame(content, columns=['Author', 'Username', 'Text', 'Date'])"
      ]
    },
    {
      "cell_type": "code",
      "source": [
        "df['Date'] = df['Date'].str.split('T').str[0]\n",
        "df['Date']"
      ],
      "metadata": {
        "id": "OhYJaysc1KI-"
      },
      "execution_count": null,
      "outputs": []
    },
    {
      "cell_type": "code",
      "source": [
        "df['Date'] = pd.to_datetime(df['Date'])"
      ],
      "metadata": {
        "id": "DEaQPGTk1EGe"
      },
      "execution_count": 62,
      "outputs": []
    },
    {
      "cell_type": "code",
      "source": [
        "df.info()"
      ],
      "metadata": {
        "id": "8fPqNR1f08n0"
      },
      "execution_count": null,
      "outputs": []
    }
  ],
  "metadata": {
    "colab": {
      "name": "Un benvenuto a Colaboratory",
      "provenance": [],
      "include_colab_link": true
    },
    "kernelspec": {
      "display_name": "Python 3",
      "name": "python3"
    },
    "language_info": {
      "codemirror_mode": {
        "name": "ipython",
        "version": 3
      },
      "file_extension": ".py",
      "mimetype": "text/x-python",
      "name": "python",
      "nbconvert_exporter": "python",
      "pygments_lexer": "ipython3",
      "version": "3.9.12"
    }
  },
  "nbformat": 4,
  "nbformat_minor": 0
}