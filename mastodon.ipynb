{
  "cells": [
    {
      "cell_type": "markdown",
      "metadata": {
        "id": "view-in-github",
        "colab_type": "text"
      },
      "source": [
        "<a href=\"https://colab.research.google.com/github/Vincenzo-Miracula/MasterSDS/blob/main/mastodon.ipynb\" target=\"_parent\"><img src=\"https://colab.research.google.com/assets/colab-badge.svg\" alt=\"Open In Colab\"/></a>"
      ]
    },
    {
      "cell_type": "markdown",
      "source": [
        "![mast.png](data:image/png;base64,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)"
      ],
      "metadata": {
        "id": "Sk1Lhb-pkjtZ"
      }
    },
    {
      "cell_type": "markdown",
      "source": [
        "# Analisi del Codice per Estrazione di Toots da Mastodon\n",
        "\n",
        "### 1. Installazione delle Librerie\n",
        "Il codice inizia con l'installazione della libreria `Mastodon.py` utilizzata per interagire con l'API di Mastodon.\n",
        "\n",
        "\n",
        "### 2. Importazione delle Librerie\n",
        "Le seguenti librerie vengono importate per essere utilizzate nel codice:\n",
        "- **Mastodon**: La libreria principale per interagire con l'API di Mastodon.\n",
        "- **time**: Utilizzata per gestire il tempo, se necessario (anche se non utilizzata direttamente nel codice).\n",
        "- **pandas**: Per organizzare i dati in un DataFrame.\n",
        "- **re**: Per lavorare con espressioni regolari (anche se non utilizzata nel codice).\n",
        "- **configparser**: Per leggere il file di configurazione contenente il token di accesso a Mastodon.\n",
        "- **BeautifulSoup (bs4)**: Utilizzata per rimuovere i tag HTML dai testi dei toots.\n",
        "\n",
        "### 3. Lettura del File di Configurazione\n",
        "Il codice carica il file di configurazione `config.ini` utilizzando `configparser` per leggere il **token di accesso** necessario per interagire con l'API di Mastodon. Viene anche definita la base URL dell'API di Mastodon (`https://mastodon.social`).\n",
        "\n",
        "### 4. Autenticazione e Connessione all'API\n",
        "Viene creato un oggetto `Mastodon` utilizzando il token di accesso e l'API base URL specificata. Questo oggetto consente di fare richieste all'API di Mastodon.\n",
        "\n",
        "### 5. Impostazione dell'Hashtag e delle Variabili\n",
        "Viene definito l'hashtag da cui estrarre i \"toots\" (post di Mastodon) e il limite massimo di \"toots\" da raccogliere (1000 in questo caso). Viene anche creata una lista vuota `all_toots` per memorizzare i risultati.\n",
        "\n",
        "- **hashtag**: L'hashtag di interesse per la raccolta dei \"toots\".\n",
        "- **limit**: Il numero massimo di \"toots\" da estrarre.\n",
        "- **all_toots**: Lista che contiene tutti i \"toots\" estratti.\n",
        "\n",
        "### 6. Estrazione dei Toots\n",
        "Il codice entra in un ciclo `while` per raccogliere i \"toots\" associati all'hashtag. La funzione `m.timeline_hashtag()` recupera i \"toots\" più recenti associati all'hashtag specificato, con un limite di risultati definito.\n",
        "\n",
        "- **max_id**: L'ID dell'ultimo \"toot\" estratto viene usato come parametro per la paginazione, in modo che la richiesta successiva prenda i \"toots\" precedenti.\n",
        "- **last_id**: Contiene l'ID dell'ultimo \"toot\" estratto. Ogni volta che nuovi \"toots\" vengono aggiunti, l'ID dell'ultimo \"toot\" viene aggiornato.\n",
        "\n",
        "Il ciclo continua finché non vengono estratti il numero massimo di \"toots\" definito o finché non ci sono più risultati disponibili.\n",
        "\n",
        "### 7. Organizzazione dei Dati\n",
        "I dati estratti dai \"toots\" vengono organizzati in un formato strutturato (DataFrame) utilizzando la libreria **pandas**. Ogni \"toot\" è rappresentato come una riga nel DataFrame con le seguenti colonne:\n",
        "- **Date**: La data di creazione del \"toot\".\n",
        "- **ID**: L'ID dell'account che ha pubblicato il \"toot\".\n",
        "- **User**: Il nome dell'utente che ha pubblicato il \"toot\".\n",
        "- **Text**: Il contenuto del \"toot\".\n",
        "- **Lang**: La lingua del \"toot\".\n",
        "- **Rep**: L'ID dell'account a cui il \"toot\" è una risposta (se presente).\n",
        "\n",
        "### 8. Pulizia del Testo\n",
        "Una funzione **estrai_contenuto()** utilizza BeautifulSoup per rimuovere i tag HTML dal testo del \"toot\", lasciando solo il contenuto testuale. Questa funzione viene applicata alla colonna **Text** per creare una nuova colonna **clean_text** contenente il testo pulito.\n",
        "\n",
        "### 9. Visualizzazione del DataFrame\n",
        "Il DataFrame finale contiene i dati relativi ai \"toots\", inclusi i testi puliti (senza tag HTML), e può essere utilizzato per ulteriori analisi.\n"
      ],
      "metadata": {
        "id": "F0YPBFsSkjo4"
      }
    },
    {
      "cell_type": "code",
      "source": [
        "!pip install Mastodon.py"
      ],
      "metadata": {
        "id": "QA59VaHmb8xK"
      },
      "execution_count": null,
      "outputs": []
    },
    {
      "cell_type": "code",
      "source": [
        "from mastodon import Mastodon\n",
        "import time\n",
        "import pandas as pd\n",
        "import re\n",
        "import configparser\n",
        "from bs4 import BeautifulSoup as bs"
      ],
      "metadata": {
        "id": "KuBxe-u9cM9y"
      },
      "execution_count": 3,
      "outputs": []
    },
    {
      "cell_type": "code",
      "source": [
        "config = configparser.ConfigParser()\n",
        "config.read('config.ini')"
      ],
      "metadata": {
        "id": "0STne52jjYCr",
        "outputId": "08c8c7ab-47ac-4a4b-e4e7-2ba6e6cae5e4",
        "colab": {
          "base_uri": "https://localhost:8080/"
        }
      },
      "execution_count": 4,
      "outputs": [
        {
          "output_type": "execute_result",
          "data": {
            "text/plain": [
              "['config.ini']"
            ]
          },
          "metadata": {},
          "execution_count": 4
        }
      ]
    },
    {
      "cell_type": "code",
      "source": [
        "m = Mastodon(access_token=config['mastodon']['token'], api_base_url=\"https://mastodon.social\")\n",
        "\n",
        "hashtag = ''  # Sostituisci con l'hashtag desiderato\n",
        "limit = 1000"
      ],
      "metadata": {
        "id": "O62kUBWIcUm-"
      },
      "execution_count": 6,
      "outputs": []
    },
    {
      "cell_type": "code",
      "source": [
        "all_toots = []\n",
        "\n",
        "last_id = None\n",
        "while len(all_toots) < limit:\n",
        "    results = m.timeline_hashtag(hashtag, limit=limit - len(all_toots), max_id=last_id)\n",
        "    if not results:\n",
        "        break\n",
        "    last_id = results[-1].id - 1\n",
        "    all_toots.extend(results)\n",
        "\n",
        "columns = ['Date', 'ID', 'User', 'Text', 'Lang', 'Rep']\n",
        "data = []\n",
        "\n",
        "for status in all_toots:\n",
        "    fecha = status['created_at']\n",
        "    userID = status['account']['id']\n",
        "    username = status['account']['display_name']\n",
        "    text = status['content']\n",
        "    lang = status['language']\n",
        "    rep = status['in_reply_to_account_id']\n",
        "\n",
        "    data.append({\n",
        "        'Date': fecha,\n",
        "        'ID': userID,\n",
        "        'User': username,\n",
        "        'Text': text,\n",
        "        'Lang': lang,\n",
        "        'Rep': rep\n",
        "    })\n",
        "\n",
        "dfToot = pd.DataFrame(data, columns=columns)"
      ],
      "metadata": {
        "id": "8PQLQjIBcf4C"
      },
      "execution_count": 19,
      "outputs": []
    },
    {
      "cell_type": "code",
      "source": [
        "def estrai_contenuto(testo):\n",
        "        soup = bs(testo, 'html.parser')\n",
        "        return soup.text\n",
        "\n",
        "dfToot['clean_text'] = dfToot['Text'].astype(str).apply(estrai_contenuto)"
      ],
      "metadata": {
        "id": "1d12fyeajzk-"
      },
      "execution_count": 21,
      "outputs": []
    },
    {
      "cell_type": "code",
      "source": [
        "dfToot"
      ],
      "metadata": {
        "id": "mvelX3JplA_m"
      },
      "execution_count": null,
      "outputs": []
    }
  ],
  "metadata": {
    "colab": {
      "name": "Un benvenuto a Colaboratory",
      "provenance": [],
      "include_colab_link": true
    },
    "kernelspec": {
      "display_name": "Python 3",
      "name": "python3"
    }
  },
  "nbformat": 4,
  "nbformat_minor": 0
}