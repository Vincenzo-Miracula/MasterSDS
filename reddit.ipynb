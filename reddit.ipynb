{
  "cells": [
    {
      "cell_type": "markdown",
      "metadata": {
        "id": "view-in-github",
        "colab_type": "text"
      },
      "source": [
        "<a href=\"https://colab.research.google.com/github/Vincenzo-Miracula/MasterSDS/blob/main/reddit.ipynb\" target=\"_parent\"><img src=\"https://colab.research.google.com/assets/colab-badge.svg\" alt=\"Open In Colab\"/></a>"
      ]
    },
    {
      "cell_type": "markdown",
      "source": [
        "# ![reddit.png](data:image/png;base64,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)"
      ],
      "metadata": {
        "id": "DlhpFAK3YY6e"
      }
    },
    {
      "cell_type": "markdown",
      "source": [
        "\n",
        "https://www.reddit.com/\n",
        "\n",
        "### 1. Importazione delle Librerie\n",
        "Il codice utilizza diverse librerie:\n",
        "- **PRAW**: Per interagire con l'API di Reddit e accedere ai thread e ai commenti.\n",
        "- **json**: Per salvare i dati estratti in un file JSON.\n",
        "- **datetime**: Per convertire i timestamp UNIX in un formato leggibile.\n",
        "- **pandas**: Per organizzare i dati in un DataFrame.\n",
        "- **configparser**: Per leggere configurazioni da un file `config.ini`.\n",
        "\n",
        "### 2. Lettura del File di Configurazione\n",
        "Il file `config.ini` viene letto tramite la libreria `configparser`. Questo file contiene i seguenti parametri:\n",
        "- `client_id`, `client_secret`, `user_agent`: Credenziali necessarie per autenticarsi all'API di Reddit.\n",
        "\n",
        "Questi parametri vengono utilizzati per creare un'istanza `praw.Reddit` che permette di interagire con Reddit.\n",
        "\n",
        "### 3. Scelta del Thread Reddit\n",
        "Il codice specifica l'URL di un thread Reddit. Questo thread è caricato nell'oggetto `submission` tramite il metodo `reddit.submission(url=thread_url)`. L'oggetto `submission` consente di accedere a informazioni come:\n",
        "- L'autore del thread.\n",
        "- Il testo del thread.\n",
        "- La data di creazione.\n",
        "- I commenti.\n",
        "\n",
        "### 4. Conversione del Timestamp\n",
        "Una funzione personalizzata, `convert_timestamp`, converte i timestamp UNIX in un formato leggibile (`YYYY-MM-DD HH:MM:SS`). Questo è utile per visualizzare in modo comprensibile le date di creazione del thread e dei commenti.\n",
        "\n",
        "### 5. Creazione del Dizionario per il Thread\n",
        "Le informazioni principali del thread vengono salvate in un dizionario chiamato `thread_data`, che contiene:\n",
        "- **Autore del thread**: Nome dell'utente che ha creato il thread.\n",
        "- **Testo del thread**: Contenuto principale del post.\n",
        "- **Data**: Data di creazione del thread (in formato leggibile).\n",
        "\n",
        "### 6. Estrazione dei Commenti\n",
        "Il metodo `submission.comments.replace_more(limit=None)` assicura che tutti i commenti del thread, inclusi quelli inizialmente omessi, vengano caricati. I commenti vengono quindi estratti tramite `submission.comments.list()`.\n",
        "\n",
        "### 7. Elaborazione dei Commenti\n",
        "Per ogni commento, il codice crea un dizionario contenente:\n",
        "- **Autore del thread**: Nome dell'autore del thread (ripetuto per riferimento).\n",
        "- **Testo del thread**: Contenuto del thread (ripetuto per riferimento).\n",
        "- **Data**: Data di creazione del commento (convertita in formato leggibile).\n",
        "- **Autore del commento**: Nome dell'utente che ha scritto il commento.\n",
        "- **Testo del commento**: Contenuto del commento.\n",
        "\n",
        "Questi dati vengono aggiunti alla lista dei commenti nel dizionario `thread_data`.\n",
        "\n",
        "### 8. Conversione in DataFrame\n",
        "La lista dei commenti estratti viene organizzata in una struttura tabellare (`DataFrame`) utilizzando la libreria `pandas`. Questo rende i dati più facili da analizzare e manipolare.\n",
        "\n",
        "### 9. Salvataggio in Formato JSON\n",
        "L'intero dizionario `thread_data`, che include i dettagli del thread e i commenti, viene salvato in un file JSON (`thread_data.json`) per utilizzi futuri o ulteriori analisi.\n",
        "\n",
        "### Riassunto del Flusso\n",
        "1. Lettura delle credenziali dal file `config.ini`.\n",
        "2. Connessione all'API di Reddit tramite `praw.Reddit`.\n",
        "3. Estrazione dei dettagli del thread (autore, testo, data).\n",
        "4. Caricamento e iterazione sui commenti del thread.\n",
        "5. Organizzazione dei dati in un dizionario strutturato.\n",
        "6. Salvataggio dei dati in un file JSON e in un `DataFrame pandas`.\n"
      ],
      "metadata": {
        "id": "un3c9SIsViLZ"
      }
    },
    {
      "cell_type": "markdown",
      "source": [
        "\n",
        "\n",
        "------\n",
        "\n"
      ],
      "metadata": {
        "id": "hYcvoItsXSKK"
      }
    },
    {
      "cell_type": "code",
      "source": [
        "!pip install praw"
      ],
      "metadata": {
        "id": "nM3LJ0z5PuTM"
      },
      "execution_count": null,
      "outputs": []
    },
    {
      "cell_type": "code",
      "source": [
        "import praw\n",
        "import json\n",
        "from datetime import datetime\n",
        "import pandas as pd\n",
        "import configparser"
      ],
      "metadata": {
        "id": "I_Dw9XKJPv3-"
      },
      "execution_count": 2,
      "outputs": []
    },
    {
      "cell_type": "code",
      "source": [
        "config = configparser.ConfigParser()\n",
        "config.read('config.ini')"
      ],
      "metadata": {
        "id": "YZb31blvQUWd"
      },
      "execution_count": null,
      "outputs": []
    },
    {
      "cell_type": "code",
      "source": [
        "config['reddit']['user_agent']"
      ],
      "metadata": {
        "id": "cX__Y9zvRGRK"
      },
      "execution_count": null,
      "outputs": []
    },
    {
      "cell_type": "code",
      "source": [
        "# Creazione istanza\n",
        "reddit = praw.Reddit(\n",
        "    client_id= config['reddit'] ['client_id'],\n",
        "    client_secret= config['reddit']['client_secret'],\n",
        "    user_agent= config['reddit']['user_agent'],\n",
        "    check_for_async=False\n",
        ")"
      ],
      "metadata": {
        "id": "_-qOvfoJPyYD"
      },
      "execution_count": 27,
      "outputs": []
    },
    {
      "cell_type": "code",
      "source": [
        "# URL del thread da analizzare\n",
        "thread_url = \"https://www.reddit.com/r/trump/comments/1gkyeec/a_democrat_here_congratulations_for_the_win/\"\n",
        "submission = reddit.submission(url=thread_url)"
      ],
      "metadata": {
        "id": "TZrFwhl1QmJ_"
      },
      "execution_count": 48,
      "outputs": []
    },
    {
      "cell_type": "code",
      "source": [
        "submission.comments.replace_more(limit=None)\n",
        "comments = submission.comments.list()"
      ],
      "metadata": {
        "id": "9pEQtgvjQo4U"
      },
      "execution_count": 53,
      "outputs": []
    },
    {
      "cell_type": "code",
      "source": [
        "for comment in comments:\n",
        "  print(comment.author)"
      ],
      "metadata": {
        "id": "qYwGCEWZSlXn"
      },
      "execution_count": null,
      "outputs": []
    },
    {
      "cell_type": "markdown",
      "source": [
        "# resto del codice"
      ],
      "metadata": {
        "id": "Ji1MrGCiT24p"
      }
    },
    {
      "cell_type": "code",
      "source": [
        "def convert_timestamp(unix_timestamp):\n",
        "    return datetime.utcfromtimestamp(unix_timestamp).strftime('%Y-%m-%d %H:%M:%S')"
      ],
      "metadata": {
        "id": "Nv8RlQQoT7xe"
      },
      "execution_count": 44,
      "outputs": []
    },
    {
      "cell_type": "code",
      "source": [
        "# Creazione del dizionario per salvare i dati\n",
        "thread_data = {\n",
        "    \"thread\": {\n",
        "        \"author\": str(submission.author),\n",
        "        \"text\": submission.selftext,\n",
        "        \"date\": convert_timestamp(submission.created_utc),\n",
        "    },\n",
        "    \"comments\": []\n",
        "}"
      ],
      "metadata": {
        "id": "eddjRxt1T9yj"
      },
      "execution_count": 56,
      "outputs": []
    },
    {
      "cell_type": "code",
      "source": [
        "for comment in comments:\n",
        "    comment_data = {\n",
        "        \"author_thread\": thread_data[\"thread\"][\"author\"],\n",
        "        \"text_thread\": thread_data[\"thread\"][\"text\"],\n",
        "        \"date\": convert_timestamp(comment.created_utc),\n",
        "        \"author\": str(comment.author),\n",
        "        \"text\": comment.body\n",
        "    }\n",
        "    thread_data[\"comments\"].append(comment_data)\n",
        "\n",
        "# Ora, thread_data è un dizionario che contiene tutti i dati\n",
        "# Possiamo trasformare i dati dei commenti in un DataFrame\n",
        "\n",
        "comments_data = thread_data[\"comments\"]"
      ],
      "metadata": {
        "id": "C2Gr5HlkUD6h"
      },
      "execution_count": 57,
      "outputs": []
    },
    {
      "cell_type": "code",
      "source": [
        "df = pd.DataFrame(comments_data)\n",
        "\n",
        "# Salviamo il dizionario in un file JSON per eventuali utilizzi successivi\n",
        "with open(\"thread_data.json\", \"w\") as json_file:\n",
        "    json.dump(thread_data, json_file, indent=4)"
      ],
      "metadata": {
        "id": "7fFf5bMxU6Xf"
      },
      "execution_count": 58,
      "outputs": []
    },
    {
      "cell_type": "code",
      "source": [
        "df"
      ],
      "metadata": {
        "id": "mjcYKEoHVd6o"
      },
      "execution_count": null,
      "outputs": []
    },
    {
      "cell_type": "code",
      "source": [
        "df.iloc[:]#, 1:]"
      ],
      "metadata": {
        "id": "orIdgaRBU63f"
      },
      "execution_count": null,
      "outputs": []
    }
  ],
  "metadata": {
    "colab": {
      "name": "Usare al meglio l'abbonamento Colab",
      "provenance": [],
      "include_colab_link": true
    },
    "kernelspec": {
      "display_name": "Python 3",
      "name": "python3"
    }
  },
  "nbformat": 4,
  "nbformat_minor": 0
}