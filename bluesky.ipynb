{
  "cells": [
    {
      "cell_type": "markdown",
      "metadata": {
        "id": "view-in-github",
        "colab_type": "text"
      },
      "source": [
        "<a href=\"https://colab.research.google.com/github/Vincenzo-Miracula/MasterSDS/blob/main/bluesky.ipynb\" target=\"_parent\"><img src=\"https://colab.research.google.com/assets/colab-badge.svg\" alt=\"Open In Colab\"/></a>"
      ]
    },
    {
      "cell_type": "markdown",
      "source": [
        "![blu.jpeg](data:image/jpeg;base64,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)"
      ],
      "metadata": {
        "id": "eYM08hnv20X5"
      }
    },
    {
      "cell_type": "markdown",
      "source": [
        "# Spiegazione del Codice Python per l'Estrazione di Post da Bluesky\n",
        "\n",
        "### Introduzione\n",
        "Il codice fornisce un esempio di come interagire con l'API di Bluesky (un social network decentralizzato) per estrarre i post da un feed utilizzando la libreria Python `atproto`. Il processo comprende l'autenticazione, la ricerca di post, e l'estrazione di informazioni sui post (come l'autore, il testo, e la data). I dati vengono poi organizzati in un DataFrame di Pandas per un'analisi successiva.\n",
        "\n",
        "### Installazione e Importazione delle Librerie\n",
        "Il codice inizia con l'installazione e l'importazione delle librerie necessarie:\n",
        "\n",
        "- `atproto`: Libreria utilizzata per interagire con l'API di Bluesky.\n",
        "- `requests`: Per inviare richieste HTTP.\n",
        "- `json`: Per lavorare con risposte in formato JSON.\n",
        "- `tqdm`: Per visualizzare una barra di avanzamento durante l'esecuzione dei loop.\n",
        "- `time`: Per gestire pause tra le richieste.\n",
        "- `pandas`: Per la manipolazione dei dati.\n",
        "- `configparser`: Per leggere il file di configurazione.\n",
        "- `datetime`: Per lavorare con date e orari.\n",
        "\n",
        "### Lettura delle Credenziali\n",
        "Il codice utilizza il modulo `configparser` per leggere le credenziali di accesso da un file `config.ini`.\n",
        "\n",
        "### Autenticazione e Login\n",
        "Le credenziali vengono utilizzate per effettuare il login su Bluesky tramite il metodo `login` della classe `Client`. Tuttavia, il `token` di autenticazione è vuoto nel codice, il che significa che deve essere riempito per funzionare correttamente.\n",
        "\n",
        "### Preparazione della Richiesta API\n",
        "L'endpoint dell'API di Bluesky per cercare i post è specificato nell'URL. Inoltre, vengono impostati i parametri della ricerca, come la query, il limite dei post da estrarre, l'ordinamento, e il tag per la ricerca.\n",
        "\n",
        "### Funzione per Estrazione dei Post\n",
        "La funzione `estrai_post` invia richieste API per ottenere i post da Bluesky. Utilizza la paginazione tramite un cursore per recuperare più post, se necessario. Inoltre, viene utilizzata la libreria `tqdm` per visualizzare una barra di avanzamento durante l'estrazione dei dati.\n",
        "\n",
        "### Estrazione delle Informazioni dai Post\n",
        "Una volta estratti i post, la funzione `estrai_displaynames_e_testi` raccoglie informazioni specifiche da ogni post, come l'handle dell'autore, il nome visualizzato, il testo del post, e la data di creazione.\n",
        "\n",
        "### Creazione del DataFrame con Pandas\n",
        "Infine, i dati estratti vengono convertiti in un DataFrame di Pandas per facilitare la visualizzazione e l'analisi. Ogni post è rappresentato da una riga nel DataFrame con le colonne `Author`, `Username`, `Text`, e `Date`.\n"
      ],
      "metadata": {
        "id": "dQAmXZia3j_N"
      }
    },
    {
      "cell_type": "code",
      "source": [
        "!pip install atproto"
      ],
      "metadata": {
        "id": "6mQYMpylpsQg"
      },
      "execution_count": null,
      "outputs": []
    },
    {
      "cell_type": "code",
      "execution_count": 46,
      "metadata": {
        "id": "eO-fKS_A0EdV"
      },
      "outputs": [],
      "source": [
        "from atproto import Client\n",
        "import requests\n",
        "import json\n",
        "from tqdm import tqdm\n",
        "import time\n",
        "import pandas as pd\n",
        "import configparser\n",
        "from datetime import datetime"
      ]
    },
    {
      "cell_type": "code",
      "source": [
        "config = configparser.ConfigParser()\n",
        "config.read('config.ini')"
      ],
      "metadata": {
        "colab": {
          "base_uri": "https://localhost:8080/"
        },
        "id": "ws_FS2U7pj2W",
        "outputId": "49ea2785-50b2-4288-c9b3-a1dfedb660ec"
      },
      "execution_count": 4,
      "outputs": [
        {
          "output_type": "execute_result",
          "data": {
            "text/plain": [
              "['config.ini']"
            ]
          },
          "metadata": {},
          "execution_count": 4
        }
      ]
    },
    {
      "cell_type": "code",
      "execution_count": null,
      "metadata": {
        "id": "7sJo8pn7xy0x"
      },
      "outputs": [],
      "source": [
        "client = Client()\n",
        "# By default, it uses the server of bsky.app. To change this behavior, pass the base api URL to constructor\n",
        "client_id = config['bluesky']['client_id']\n",
        "password_app = config['bluesky']['password_app']\n",
        "\n",
        "client.login(client_id, password_app)"
      ]
    },
    {
      "cell_type": "code",
      "execution_count": 6,
      "metadata": {
        "id": "XBTm2UEhmKQx"
      },
      "outputs": [],
      "source": [
        "token = ''"
      ]
    },
    {
      "cell_type": "code",
      "execution_count": null,
      "metadata": {
        "id": "qTmmV_6j7rDT"
      },
      "outputs": [],
      "source": [
        "# URL dell'API\n",
        "url = \"https://milkcap.us-west.host.bsky.network/xrpc/app.bsky.feed.searchPosts\"\n",
        "headers = {\"Authorization\": f\"Bearer {token}\"}\n",
        "\n",
        "# Parametri della richiesta\n",
        "params = {\n",
        "    \"q\": \"\",  # Query di ricerca\n",
        "    \"limit\": 100,    # Limite massimo per ogni richiesta\n",
        "    \"sort\": \"latest\", # Ordinamento dei risultati - top o latest\n",
        "    \"tag\": '#',  # Filtro per il tag\n",
        "}\n",
        "\n",
        "def estrai_post(url, params, max_posts=400):\n",
        "    all_posts = []\n",
        "    cursor = None\n",
        "\n",
        "    with tqdm(total=max_posts, desc=\"Estrazione post\") as pbar:\n",
        "        while len(all_posts) < max_posts:\n",
        "            if cursor:\n",
        "                params[\"cursor\"] = cursor  # Usa il cursore per la paginazione\n",
        "            response = requests.get(url, headers=headers, params=params)\n",
        "\n",
        "            if response.status_code == 200:\n",
        "                data = response.json()\n",
        "                all_posts.extend(data[\"posts\"])\n",
        "                pbar.update(len(data[\"posts\"]))  # Aggiorna la barra di avanzamento\n",
        "\n",
        "                cursor = data.get(\"cursor\", None)\n",
        "                if cursor is None:\n",
        "                    break\n",
        "            else:\n",
        "                print(f\"Errore nella richiesta: {response.status_code}\")\n",
        "                break\n",
        "\n",
        "            time.sleep(1)  # Pausa prima della prossima richiesta\n",
        "\n",
        "    return all_posts\n",
        "\n",
        "data = estrai_post(url, params)\n",
        "print(f\"Numero di post estratti: {len(data)}\")"
      ]
    },
    {
      "cell_type": "code",
      "source": [
        "data[0]"
      ],
      "metadata": {
        "id": "Kv0SBP6StUic"
      },
      "execution_count": null,
      "outputs": []
    },
    {
      "cell_type": "code",
      "source": [
        "for post in data:\n",
        "  print(post['record']['createdAt'])"
      ],
      "metadata": {
        "id": "VkFhqvRtx0A1"
      },
      "execution_count": null,
      "outputs": []
    },
    {
      "cell_type": "code",
      "execution_count": 38,
      "metadata": {
        "id": "28MpMm6gcmTZ"
      },
      "outputs": [],
      "source": [
        "def estrai_displaynames_e_testi(data):\n",
        "    risultati = []\n",
        "    for post in data:\n",
        "\n",
        "      handle = post['author']['handle']\n",
        "      displayname = post['author'].get('displayName', 'empty')\n",
        "      text = post['record']['text']\n",
        "      date = post['record']['createdAt']\n",
        "      risultati.append((handle, displayname, text, date))\n",
        "    return risultati"
      ]
    },
    {
      "cell_type": "code",
      "execution_count": null,
      "metadata": {
        "id": "CtlOIEIWohEm"
      },
      "outputs": [],
      "source": [
        "for item in data:\n",
        "    print(item.keys())[0]"
      ]
    },
    {
      "cell_type": "code",
      "execution_count": 42,
      "metadata": {
        "id": "cBK-FvGmd2rb"
      },
      "outputs": [],
      "source": [
        "content = estrai_displaynames_e_testi(data)"
      ]
    },
    {
      "cell_type": "code",
      "execution_count": null,
      "metadata": {
        "colab": {
          "base_uri": "https://localhost:8080/"
        },
        "id": "omaWkpm-bK-u",
        "outputId": "2b229d9b-c5d6-417e-ab65-b20f84adb12f"
      },
      "outputs": [
        {
          "data": {
            "text/plain": [
              "400"
            ]
          },
          "execution_count": 250,
          "metadata": {},
          "output_type": "execute_result"
        }
      ],
      "source": [
        "len(pd.DataFrame(content))"
      ]
    },
    {
      "cell_type": "code",
      "execution_count": 58,
      "metadata": {
        "id": "9_vuF3zUkCwH"
      },
      "outputs": [],
      "source": [
        "df = pd.DataFrame(content, columns=['Author', 'Username', 'Text', 'Date'])"
      ]
    },
    {
      "cell_type": "code",
      "source": [
        "df['Date'] = df['Date'].str.split('T').str[0]\n",
        "df['Date']"
      ],
      "metadata": {
        "id": "OhYJaysc1KI-"
      },
      "execution_count": null,
      "outputs": []
    },
    {
      "cell_type": "code",
      "source": [
        "df['Date'] = pd.to_datetime(df['Date'])"
      ],
      "metadata": {
        "id": "DEaQPGTk1EGe"
      },
      "execution_count": 62,
      "outputs": []
    },
    {
      "cell_type": "code",
      "source": [
        "df.info()"
      ],
      "metadata": {
        "id": "8fPqNR1f08n0"
      },
      "execution_count": null,
      "outputs": []
    }
  ],
  "metadata": {
    "colab": {
      "name": "Un benvenuto a Colaboratory",
      "provenance": [],
      "include_colab_link": true
    },
    "kernelspec": {
      "display_name": "Python 3",
      "name": "python3"
    },
    "language_info": {
      "codemirror_mode": {
        "name": "ipython",
        "version": 3
      },
      "file_extension": ".py",
      "mimetype": "text/x-python",
      "name": "python",
      "nbconvert_exporter": "python",
      "pygments_lexer": "ipython3",
      "version": "3.9.12"
    }
  },
  "nbformat": 4,
  "nbformat_minor": 0
}