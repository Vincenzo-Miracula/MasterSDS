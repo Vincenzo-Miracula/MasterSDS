{
  "cells": [
    {
      "cell_type": "markdown",
      "metadata": {
        "id": "view-in-github",
        "colab_type": "text"
      },
      "source": [
        "<a href=\"https://colab.research.google.com/github/Vincenzo-Miracula/MasterSDS/blob/main/api_youtube.ipynb\" target=\"_parent\"><img src=\"https://colab.research.google.com/assets/colab-badge.svg\" alt=\"Open In Colab\"/></a>"
      ]
    },
    {
      "cell_type": "markdown",
      "metadata": {
        "id": "p35MmgRhbIgr"
      },
      "source": [
        "\n",
        "\n",
        "1.   installazione requirements\n",
        "2.   installazione librerie\n",
        "3.   definizione chrome options\n",
        "4.   url video yt, estrazione testo e mi piace\n",
        "5.   creazione dataframe per lavorare sul csv/excel\n",
        "\n"
      ]
    },
    {
      "cell_type": "code",
      "execution_count": null,
      "metadata": {
        "id": "vjyUVmqM2an3"
      },
      "outputs": [],
      "source": [
        "!pip install google-api-python-client"
      ]
    },
    {
      "cell_type": "code",
      "execution_count": null,
      "metadata": {
        "id": "pnRzRuhk2gDu"
      },
      "outputs": [],
      "source": [
        "import os\n",
        "import googleapiclient.discovery\n",
        "from google.oauth2 import service_account\n",
        "from googleapiclient.discovery import build\n",
        "import pandas as pd\n",
        "from tqdm import tqdm"
      ]
    },
    {
      "cell_type": "code",
      "execution_count": null,
      "metadata": {
        "id": "lln796iqFqvO"
      },
      "outputs": [],
      "source": [
        "api_service_name = \"youtube\"\n",
        "api_version = \"v3\"\n",
        "DEVELOPER_KEY = \"\"\n",
        "next_page_token_comments = None\n",
        "video_id = ''\n",
        "comments = []\n",
        "LIMIT_COMMENTS = 10000\n",
        "total_comments_extracted = 0\n",
        "\n",
        "youtube = build(api_service_name, api_version, developerKey=DEVELOPER_KEY)\n",
        "\n",
        "with tqdm(total=LIMIT_COMMENTS, unit='Text') as pbar_comments:\n",
        "  while total_comments_extracted < LIMIT_COMMENTS:\n",
        "    request = youtube.commentThreads().list(\n",
        "        part=\"snippet\",\n",
        "        videoId=video_id,\n",
        "        textFormat='plainText',\n",
        "        maxResults=100,\n",
        "        pageToken=next_page_token_comments)\n",
        "    response = request.execute()\n",
        "\n",
        "    # Estrai i commenti\n",
        "    for item in response['items']:\n",
        "        comment = item['snippet']['topLevelComment']['snippet']\n",
        "        comments.append([\n",
        "            comment['authorDisplayName'],\n",
        "            comment['publishedAt'],\n",
        "            comment['updatedAt'],\n",
        "            comment['likeCount'],\n",
        "            comment['textDisplay']])\n",
        "        total_comments_extracted += 1\n",
        "        pbar_comments.update(1)\n",
        "\n",
        "        if total_comments_extracted >= LIMIT_COMMENTS:\n",
        "            break\n",
        "    next_page_token_comments = response.get('nextPageToken')\n",
        "\n",
        "    # Se non ci sono più pagine da elaborare, esci dal ciclo\n",
        "    if not next_page_token_comments:\n",
        "        break\n",
        "\n",
        "print(f\"Totale commenti estratti: {total_comments_extracted}\")"
      ]
    },
    {
      "cell_type": "code",
      "execution_count": null,
      "metadata": {
        "id": "l6yHfgdbHbX4"
      },
      "outputs": [],
      "source": [
        "df = pd.DataFrame(comments, columns=['author', 'published_at', 'updated_at', 'like_count', 'text'])\n",
        "df"
      ]
    }
  ],
  "metadata": {
    "colab": {
      "collapsed_sections": [
        "kGsis4U4PcmR",
        "RnD3rt06PboY"
      ],
      "provenance": [],
      "include_colab_link": true
    },
    "kernelspec": {
      "display_name": "Python 3",
      "name": "python3"
    }
  },
  "nbformat": 4,
  "nbformat_minor": 0
}