{
  "cells": [
    {
      "cell_type": "markdown",
      "metadata": {
        "id": "view-in-github",
        "colab_type": "text"
      },
      "source": [
        "<a href=\"https://colab.research.google.com/github/Vincenzo-Miracula/MasterSDS/blob/main/tiktok.ipynb\" target=\"_parent\"><img src=\"https://colab.research.google.com/assets/colab-badge.svg\" alt=\"Open In Colab\"/></a>"
      ]
    },
    {
      "cell_type": "markdown",
      "source": [
        "![tiktok.jpg](data:image/jpeg;base64,iVBORw0KGgoAAAANSUhEUgAAAOEAAADhCAMAAAAJbSJIAAABYlBMVEUAAAD////+/v7s7OxpydDuHVJsz9Zjx88bNTdarbL3+fqY1dotLS31HlTGGEQ0BhLrbYb37vHtDkxISEiFhYXT09Nvb2/YGkqlpaWrq6tKCRkICAgmSk0QEBDy8vJ7e3uampoaGhrmV3zuAkW93+LxkKP/H1jLy8uWlpZkZGRXV1dPT0/c3Ny1Fj4/Pz9bCx9Mk5iiEzfhG00kJCSCEC0xBhFyDifqADwdBAo8BxXyt8UNGhrb7/CHz9VCgIQ6b3NmDCMVKCrL6OonBQ1Xpqzi7/CnFDoSAgbAwMAhQEJhusEqU1YuX2KnhpMgBAvy0drpPmLopLPjPmj14efww8zpl6rQMVY3AACyXXB03uaS3+TUVHWxAC/8Bkny193yVnfneJHmgZesJUd4X2ZvmZw8eX6St7qHdXl7N0dWCh5OAAv7VHbTusHIm6exanyLIz+88/f/xtf/fppwABpTZmdYIzAighb3AAAQTUlEQVR4nO2diV/iSBaAqUCIRmMLjaKNoC0K2uOJtnarINie6IwosrP27Ki9Mz27PbNHzx7//9aZVIXiEBJJXJ7zm9aQpPLlvXr16tVBIPDMJdjrB3Bd+oT+lz6h/6VP6H/pE/pf+oT+lz6h/6VP6H/pE/pf+oSOS/JsSiq7bhX45IQDg+FQvYTLU24V2Cd0XP5/Cc/dKrBnhJpNLtwqsFeE+TmbfLuOZPM7xwvsEaE2pANeFLCjGoZqjLx1vMAeEiq8gMuKqj43QlGH+mwUEb53vECPEELEWhoSxl85XqB3CC9zkDC36niBniFUlFmoRHXL8QK9Qoi86TZU4qbjBXqIUK9EVeP4ndMFeoVQgT9X2244U68QoooYuYY10XFX4x1C+HMTVTPrJw4X6BlChBj5FDXiTkc1HiKEoVt1Nppxur3wDiGx04oRd7hADxEiLepXuUzR2QK9RAgRgV5L55wt0FOECFGpba87WqC3CDFjLV10skCvESLEnT9872CBXiNUcEfqjx+cK9BrhISy+u1rxwr0ICFq+lOTjmWIPUiIU1T6XKHkTIFeJCT+5qBcGHCiQG8SKghxL6wdXnQ/6OZNQuJSU0Ph2/Bg4eJsoFQqJTot0KOEOLoB+lxeC9/ehkPlcrnjWulVQtLVAHtDIU0LhcLh247rpIcJUasBdMyohcLPkJDVR30P2qr2XAlxbQQKhPz4TAkJI4JUfvjTZvHLqw6GNbxOCEjjqCizP2aQPL5AHxASTeJRDbWD/r9fCMm4jao+vsA+oePSJOetPGdChbUMz5YQ6Ckapz1TQgVERuf1xpb6PAi3r+8UGow+U8JoOlerNmD0KmFid3c3aT/YmFCNRq+v7hSSivI6YWlqv7DGpHDGf9SEUIWM97U7QiR4HW8Rli4Kh+Uy7NFhQb3Xff7jpoRq/Dhamb/RSe9Q8STh+ZqGuXhpn9AYebEaz+RmUYWklKT/5BXCUkGz0z2aMBBYz6TTEPJOYerDnB4gTJ6thW/Dmh1P0x5LGHi/rBrp7XRltHZTjUQixFp7Tpg4WwuF7WwIN5/Pj/8Ku67vP5y0SxgIFEdyqhFNp9NqZfahdnVzeVntNeHA53LYrrr80Nzcwd7RkT4fzeXiI8fv2yeEjMtx1UDOFWKmo2quoqo9JTw/FOofwps7OKIQynzUgEInVrZJGAisro+gacNEotGeEiaggxH5hvaOLGcICVVr6mjbhLA+FiFkJsMoe0h4KPLlsfZYg9YFYSBw8uLL5nLcyJiYvcli8DUQ8SliTNINIZKTdy9WN4+RxfYoE3WmcS0E5AP2vmy3hKa8fbW61cH0024JpzgNwvqn1/fVHSPsULokFADze4okF+FvwjNrEZOmDR0BWRrC14SlQw5wjljo8yJcswBDB/Y+3XMg3L+1APcappF8TFhqC9DHhAnOje4BeR30N2HBaukP5IBKl3GpM9Ix4ZTJp82JSRVgSwn6lDBh+lG6lFBUHfpXj1Sr1RT8xZ+EF2XTy4iAZFhaubv6NDp7fz87+jC/8+BHwqSlwj1hRAVPZlJuRitRU0i/x2+E58yRokpoARIFXs6m06pdfEaYLDDAPG+jGDZSi9bz+Y5wwGwLcX+X8zGgOpqOCmRM/EV4wVSIO4RcKwFY1o/Sqbn4yDKUkXjOV4SWnzmwa3CWU6CRW94sojzpycmH98UtsmTLH4QlaqS4KeTbiciDBWio66uSKff+IJxiKpzjgjVoo3rNUmAm/kW6ktAfhIVbjTlS7inRvgimCjONlvb4g5BtTyKoUFEiD6aXabwm2x+EVqdJqIWXORa/NFlW7wvCAarCvJgX1T+ZKmyS1vQF4TmthryRoodktbDponpfEO5Twj1BheCGqTDebE29LwgLJEGj6SLh/HZrG/UJIYlotDwQHA2bS2CMNL3YF4QkD6wNidUQXJNqaBSbXuwLQtIcIkfDP6NC24oWq80HDv1DaHM0OiFsGMxQ8RPhkU2HcULYYsGAL6yUaCFkc6UKqYdGi4vPylJC0u3yCiH2pTh/wT0j9aVGq5H2cznh3b2XCHF7aCOEv+OgrUVbEQhcWMkB/uLLay8R4pimTockpsksN782UQhLCW8qXiI8lxPiuLQVYWlNTrhDowVvEA5I6iHrW7SyUuJoIKFtIOeKuCmv7Coo8aXY0mCL2MrT7LMMj3ipPk8Ilx3cTIFKF318u6dRcB6qeWuxy6UHeBOvjlJCp3eJ6pBwDVdEuw4VBSmxeYu/b6UhhcaUZngMZzduwdIRIU4Io6hNVCK0tbSaadp3YvmPEB8QIT9MO15eIRyo7+JTdwqNrVnkzWan1CVAatE2upadSUeEu+hJUe8JiIQ4NDG+NLyOjefUV0Pat3Rh68sOxy1QdRJ7wNTZgMv7dKMWcbcQamSklyqphk3zHx1KZ4RoEF8L1U9hQwHmbPRX6TUlCxC1FYIOazTFM+K8K+2QEEcmYvfJRKzO/1l2ydmhBRiyD3fQ9IAbjqbTMeD9uspkISo3P9WdnyzwkxgPxJF/sMOydM7vz9oxIerH2mzNdDeKEvxZ3B9gd1+YRywOOkLWe0qYcz4q7Xwuxmf0rCnJVD080r0XHtxnkKULcSWGfXYKbAxpGrJlz6sj6ZSwhJR40GC6pQKO8mjPlcPDw0EtfCusxCBjjjygck1VaLhhpJ3PidonHQTpfEuAEOnqtZAgeKK0IvqZK1YLc47vsIukY8LEYRhPSWyEqM/hnWVEPi1/IADigfH7aIshx+6k85l7Z2xGmwwR1Ua6e46Fp+XnjsgL4M6j/SZE6Iaf6Wp+6edbLS+f2k1nKqKdZaxveQgNzdGFNIKub9iIVavsQKfSzRzhwTBUYgNEAoJ2lhkayufzQ2gZlGKbZitO3jCc33AeSzeEA6EwVGLDzR4oDlsiCewrFRSyczCz0WMXIjYkXc1kn7K13jJG7gse6jpbimL6USPnkgq7XG+xT9xp4y07CIdsGj8+uGOuunNhu3kq3REmClpeb7JjRzNy3LM3AV1II1LpclXQbgHG303stCmgOXcDNvZFR2hk0u3Krt3PWgs7lQLi3Iw1v8iN7AWTrlfnJS7y+iMRSd3csQDdSCKa4sAKy6kh8ChE7HaUmmoBxl0EdGSVbOmXRruuNLTQyKg1DbXlgFx34sha7sRMSmmTkSjwpsIDuuZGsTi0Hv8vlwpoHN3wgJCvOs/NBDfijbOPjohTeyr89YrsENQCD35evbrnZoK7DujcvhjFH2pV0Lg+spVCkZ1Ry8Wglt6tYM0U53b++HXktxqx1br9c0zySG2W51ONY3frIBIHd295sZypjF6lmD2Kgg7efKpEBT5jy81mgoqj+9NsqT+m1dmrquTbOSI3D5WouBIjM+L8cKhEnN1j6C3eWSZaGZ3fuUNbyyCp3t1cPVxHt7cFPNhIuBip8eL0LkqraHsHtOVKNFe5vr6/vq7k6AYsAp6aO3ZhEEYqzu+EtbWcw5uu2Bev8fUvfux2G2GJC7uZvSuux1VxzxUeL6OOrLveRHDiyn5tJ6+21tGeK3ZKeAjiFZ/KPom4tefeyftVurOMKYYaX9788vYJGghBXN038eTDq+Lm+vHy8vHx+mbx1YenhsPy5DtDPrn0Cf0vfUL/S5/Q/9In9L/0Cf0vfUL/SxuEr4cbCv58g563QQ/WbVIufFonK/LzOUmyUzv63q42CCcbJrEX4IPDT/UZ/JBj9GhMdpPhpUY3Sb1s9QCLQXLm0jePpUPSBuFEffaTiD4c2MjihO8p+kLGLEmT6tOymwyPSZKoOJE62fLLHBeD5Myxlu9CJl0QgrFAIKbjX4PjAUoIHkkIgPR0QaAOXSeUj0RMYwvGGXxor4gQHW5MKL1JG6aHCNGp7uuQzgAy5wBB85qgw79tEZr5fWBl/tsw0qcgtEZYuH+QkQamydBocDHQmlC8CxVd6pdEcZ1wJkWFDrAAHf+FK1ASO1plBp3XnDCrkJuwSezkT5176tLFz79ks9m//f0f/xRn+7tOyOR1kCCAcf7o9JI+Rg7YCc1mbIU3xBg1Udvjlj6Xv1q18/fZZQ6yjtBsW1ecJUxKCS2xEa5k2QOfDnNnUUJRIQOF8Fd+TA6A33+Lf2ENvJ1wPMXu3NoPO6DDRoQUEPqlyQ3+LBnh1ODHPdML0dHiyL+im+9khIlpGgCAVDuA3RKuvCGyYicczjKViIAywqnyxyNzsiYAbOvF+ej6dxLC6SAdZg62BdglYWJhichCQiRcyTJd2AAlhAPl8BHgbZTumR15SG+e1BGOB8myFRCMtRemdqnDSXpoQiS0ACfszV0dYWIwfEAUyO1OiKV6Hy3aCU3A1HSbcXj3hAREIOQ0WNdxqCP8jJf5EcDgRGw6ljXr4o6BB8JNwm8Cb1IUUN4muUNYr8NhC7A+YLETlsp4hRj+ieH3kXizRCtlZDSzxROuLDLARt7uaQgXTgGdPDQh6frZCbEKSeUzW7eNU6rTHbxQyCSMMRNVFtt/bMcJISJ5y0CXhpw2wuQaWcmmCLd9OUbn2N4bLxghvCEw62D7T+0GIaBf0XQqjalthGeD4SPiOk95z7GgY60RM11kBZNpf0o7saybhOz/yqTU2dkIz8tkbwZbHLGyRN7TPFoqxHRI36CSar8SukPIJCV91TbCC21Ix6rR3winjRHsGlpJYxLStgQsDcvu/HSECvX2YOmN5C42wn1GGBQj8ayMkNkpmOwpIQ1JZPGMhNDUYUrs68t0qJg3B730pSwXgAMUiZ3W1cOPutKgHsL/+HqocD9A8u6ejhD2Jk5pfJmqt9N6X6pLfGksRWz9gfel8H4LQfIKQbbt3KmDhCzXpE9AFbB0XKuobXctvEfNj++yjBHq6r3xnsai6JrgeGCaRgf6TM8IYSsBj4/TBwETLQhhTDNHLS9oKnz4lNr6jjqSYIQYkJSIzDrYblV0npC0xxPEnyq6/UHshLDvpFPLW1ogMcJiVqe9i3m8U8q4FXlT9SLJtpPCcJEwsEQRl1r1Dws0bEPBytJkbHphLMgyjZeV+As7YWA8RfFnWg54uEv4krpVcNqCMEmVSJo6XWeNDV5+idevi4TMPIDeXmjjGmFgmmrGFtrU9/FLeNMoqkbWx0e4O2myuttGuEETJGCpLTt1j3Bjks7QF0MbWZ5G+wqAuB4FXXhj0IWzNsLAmyBt99sKbdwjDHyzxOy0VTbxvPxV55dq4Mt+V9fpXEY7YWCBBU2OZxOxceiNshjUyVl9mxj1CfqCQEgOivnStaE9PhcFQLU28m/26XiQXmIGdqf03FQbdvoYQpaItd5cgo2eop4SGwM1eV5PUqWkuCYjRs8Sx5x2z3+e27OMtLrzj83vzQ9ZBtgy92GWMs22jt4ek/NemJhBMsG9/cUZIouQcHpmAYv16CsxcmSGI3wzge8yEbP1gBJn/4lNZoO6nhqb/Pan//J7771cIIVwlyxO0IJbK/ExMxWSRF5zIWGCHkvg39FfiST/MZFksv4KWWP2enhl5eXK8IZtLrHskmST24jSn4vhf+kT+l/6hP6XPqH/pU/of+kT+l/6hP6XYCD4zEX5H4lW/Uc7sNTLAAAAAElFTkSuQmCC)"
      ],
      "metadata": {
        "id": "E_4w-wOjcBJC"
      }
    },
    {
      "cell_type": "markdown",
      "source": [
        "# Analisi del Codice Python per Estrarre Commenti da TikTok\n",
        "\n",
        "### 1. Importazione delle Librerie\n",
        "Il codice utilizza le seguenti librerie:\n",
        "\n",
        "- **requests**: Per fare richieste HTTP, in questo caso per ottenere i dati dal server di TikTok.\n",
        "- **json**: Per lavorare con il formato JSON (serializzare e deserializzare i dati).\n",
        "- **datetime**: Per convertire i timestamp in date leggibili.\n",
        "\n",
        "### 2. Variabili e URL\n",
        "Il codice definisce l'URL del video TikTok dal quale si estrarranno i commenti. Da questo URL, viene estratto l'ID del video:\n",
        "\n",
        "- **post_url**: L'URL del video TikTok.\n",
        "- **post_id**: L'ID del video estratto dall'URL.\n",
        "\n",
        "### 3. Headers\n",
        "Il codice definisce i headers necessari per simulare una richiesta proveniente da un browser, evitando che TikTok blocchi la richiesta:\n",
        "\n",
        "- **headers**: Headers utilizzati per simulare una richiesta da un browser legittimo.\n",
        "\n",
        "### 4. Variabile `curs`\n",
        "- **curs**: La variabile indica il punto di partenza dei commenti da raccogliere, utile per la paginazione.\n",
        "\n",
        "### 5. Funzione `req`\n",
        "La funzione invia una richiesta GET all'API di TikTok per ottenere i commenti del video specificato dall'ID:\n",
        "\n",
        "- **Funzione `req`**: Invia una richiesta GET per ottenere i commenti di TikTok tramite l'ID del post. L'URL della richiesta include vari parametri necessari per accedere ai dati.\n",
        "\n",
        "### 6. Funzione `convert_timestamp`\n",
        "Questa funzione converte un timestamp (secondi da Epoch) in una data leggibile:\n",
        "\n",
        "- **Funzione `convert_timestamp`**: Converte un timestamp in un formato leggibile (YYYY-MM-DD HH:MM:SS).\n",
        "\n",
        "### 7. Funzione `extract_data`\n",
        "La funzione `extract_data` estrae le informazioni dei commenti dai dati JSON restituiti dall'API:\n",
        "\n",
        "- **Funzione `extract_data`**: Estrae informazioni dai commenti, inclusi il titolo del video, l'autore del commento, il testo del commento, la lingua e la data di creazione. Questi dati vengono salvati in un dizionario.\n",
        "\n",
        "### 8. Chiamata alle Funzioni e Salvataggio dei Dati\n",
        "Dopo aver ottenuto i dati tramite la funzione `req(post_id)` e averli elaborati con `extract_data(data)`, i commenti vengono salvati in un file JSON:\n",
        "\n",
        "- **Funzione `json.dump`**: Salva i dati estratti (i commenti) in un file JSON con formattazione leggibile."
      ],
      "metadata": {
        "id": "xncvwwh7cAfN"
      }
    },
    {
      "cell_type": "code",
      "source": [
        "import requests\n",
        "import json\n",
        "from datetime import datetime\n",
        "import pandas as pd"
      ],
      "metadata": {
        "id": "1HNc8e8bZjH8"
      },
      "execution_count": 1,
      "outputs": []
    },
    {
      "cell_type": "code",
      "source": [
        "# URL del video (puoi cambiarlo con l'URL che desideri esplorare)\n",
        "post_url = 'https://www.tiktok.com/@nunuobe/video/7126462242182155525'\n",
        "\n",
        "# Estrai l'ID del post dall'URL\n",
        "post_id = post_url.split('/')[-1]\n",
        "\n",
        "# Headers per simulare una richiesta da browser (evitare blocchi da parte di TikTok)\n",
        "headers = {\n",
        "    'User-Agent': 'Mozilla/5.0 (Windows NT 10.0; Win64; x64) AppleWebKit/537.36 (KHTML, like Gecko) Chrome/129.0.0.0 Safari/537.36'\n",
        "}"
      ],
      "metadata": {
        "id": "W9la_62yZn9M"
      },
      "execution_count": 2,
      "outputs": []
    },
    {
      "cell_type": "code",
      "source": [
        "curs=0\n",
        "# Funzione per fare la richiesta al server TikTok\n",
        "def req(post_id):\n",
        "    url = f'https://www.tiktok.com/api/comment/list/?WebIdLastTime=1729273214&aid=1988&app_language=en&app_name=tiktok_web&aweme_id={post_id}&browser_language=en-US&browser_name=Mozilla&browser_online=true&browser_platform=Win32&browser_version=5.0%20%28Windows%20NT%2010.0%3B%20Win64%3B%20x64%29%20AppleWebKit%2F537.36%20%28KHTML%2C%20like%20Gecko%29%20Chrome%2F129.0.0.0%20Safari%2F537.36&channel=tiktok_web&cookie_enabled=true&count=20&cursor={curs}&data_collection_enabled=false&device_id=7427171842932786693&device_platform=web_pc&focus_state=true&from_page=video&history_len=6&is_fullscreen=false&is_page_visible=true&odinId=7427171704705188869&os=windows&priority_region=&referer=&region=CA&screen_height=1080&screen_width=1920&tz_name=Asia%2FTehran&user_is_login=false&webcast_language=en&msToken=U488DBL2ELMV88PxvXu7bOKQJVxuv7LnhKNHsWaOT2uQhpGyj5M-7EmUsXBIS9HbQ_bQ35u3Za-f_hVhHMMYsH-4mxWPeJoUeMhgOHOvQ-IaKb5lr3DlgBIYJXCUc9MCexCHXig1u4a98hVjnec74fs=&X-Bogus=DFSzswVYtfhANH-ltQ2xJbJ92U6T&_signature=_02B4Z6wo000017DRplgAAIDBt3uT.9qT9Zew0aLAAIsv87'\n",
        "    response = requests.get(url, headers=headers)\n",
        "    return response.json()\n",
        "\n",
        "def convert_timestamp(timestamp):\n",
        "    return datetime.fromtimestamp(timestamp).strftime('%Y-%m-%d %H:%M:%S')"
      ],
      "metadata": {
        "id": "fBv7TOywZrdA"
      },
      "execution_count": 5,
      "outputs": []
    },
    {
      "cell_type": "code",
      "source": [
        "def extract_data(data):\n",
        "    comments_data = []\n",
        "\n",
        "    # Estrai il titolo del video\n",
        "    video_title = data.get('comments', [])[0].get('share_info', {}).get('title', 'No title')\n",
        "\n",
        "    # Estrai i commenti\n",
        "    for cm in data.get('comments', []):\n",
        "        comment_info = {}\n",
        "        # Username dell'autore del commento\n",
        "        username = cm.get('user', {}).get('nickname', 'Unknown')\n",
        "        # Commento\n",
        "        comment_text = cm.get('text', '')\n",
        "        # lingua\n",
        "        comment_language = cm.get('comment_language', 'Unknown')\n",
        "        # data creazione\n",
        "        create_time = cm.get('create_time', 'Unknown')\n",
        "        if create_time != 'Unknown':\n",
        "            create_time = convert_timestamp(create_time)\n",
        "\n",
        "        # Aggiungi il dato all'elenco\n",
        "        comment_info['video_title'] = video_title\n",
        "        comment_info['username'] = username\n",
        "        comment_info['comment'] = comment_text\n",
        "        comment_info['comment_language'] = comment_language\n",
        "        comment_info['create_time'] = create_time\n",
        "\n",
        "        comments_data.append(comment_info)\n",
        "\n",
        "    return comments_data"
      ],
      "metadata": {
        "id": "WNo-jWImZtss"
      },
      "execution_count": 3,
      "outputs": []
    },
    {
      "cell_type": "code",
      "source": [
        "# Chiamata alla funzione\n",
        "data = req(post_id)\n",
        "comments = extract_data(data)\n",
        "\n",
        "\n",
        "# Salva i dati in un file JSON\n",
        "with open('comments_output1.json', 'w', encoding='utf-8') as f:\n",
        "    json.dump(comments, f, ensure_ascii=False, indent=4)\n",
        "\n",
        "print(\"\\nData has been saved to: 'comments_output.json'\")\n",
        "print('\\n')\n",
        "df = pd.DataFrame(comments)\n",
        "df"
      ],
      "metadata": {
        "id": "tVi2lqq9ZbNz"
      },
      "execution_count": null,
      "outputs": []
    }
  ],
  "metadata": {
    "colab": {
      "name": "Usare al meglio l'abbonamento Colab",
      "provenance": [],
      "include_colab_link": true
    },
    "kernelspec": {
      "display_name": "Python 3",
      "name": "python3"
    }
  },
  "nbformat": 4,
  "nbformat_minor": 0
}